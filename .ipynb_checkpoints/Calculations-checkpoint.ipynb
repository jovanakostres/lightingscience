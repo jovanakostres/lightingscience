{
 "cells": [
  {
   "cell_type": "code",
   "execution_count": 2,
   "id": "361637b1",
   "metadata": {},
   "outputs": [],
   "source": [
    "import pandas as pd\n",
    "import luxpy as lx # package for color science calculations \n",
    "# print('Luxpy version: ',lx.__VERSION__)\n",
    "# version: v1.9.6\n",
    "import numpy as np # fundamental package for scientific computing \n",
    "import matplotlib.pyplot as plt # package for plotting\n",
    "import copy\n",
    "from scipy import interpolate\n",
    "from luxpy.toolboxes import spdbuild as spb"
   ]
  },
  {
   "cell_type": "code",
   "execution_count": 24,
   "id": "d33c96a9",
   "metadata": {},
   "outputs": [],
   "source": [
    "#ILLUMINANCE AND DATA LOADING\n",
    "def load_data(filepath, spdData):\n",
    "    spdData = pd.read_csv(filepath, sep=' |:', header=None, engine='python')\n",
    "    spdData.columns = ['Light','Channel','Value']\n",
    "    spdData['Luminance'] = spdData.apply(lambda x: float(lx.spd_to_power(eval(x['Value']), ptype='pu')), axis=1)\n",
    "    return spdData\n",
    "\n",
    "def get_per_channel_luminance(i, channel, luminance):\n",
    "    for j in range(1,256,10):\n",
    "        channel.append(j)\n",
    "        luminance.append(spdData['Luminance'][spdData['Light']==i][spdData['Channel']==j])\n",
    "    return channel, luminance\n",
    "    \n",
    "def get_luminance():\n",
    "    for i in [1,2,3,5]:\n",
    "        channel = []\n",
    "        luminance = []\n",
    "        col = np.where(i==1, 'r', np.where(i==2, 'g', np.where(i==3, 'b', 'y')))\n",
    "        channel, luminance = get_per_channel_luminance(i, channel, luminance)\n",
    "        largestLum.append(float(luminance[-1]))    # record the largest luminance of every channel\n",
    "\n",
    "        x = np.array(channel)\n",
    "        y = np.array(luminance)    \n",
    "        exec('func'+str(i)+'=interpolate.UnivariateSpline(y,x,s=0)') # interpolation: pass all the points\n",
    "\n",
    "    largestLum.insert(3,None) #To easily process in function of ChannelValue\n",
    "    return\n",
    "\n",
    "def plot_luminance():\n",
    "    for i in [1,2,3,5]:\n",
    "        channel = []\n",
    "        luminance = []\n",
    "        col = np.where(i==1, 'r', np.where(i==2, 'g', np.where(i==3, 'b', 'y')))\n",
    "        channel, luminance = get_per_channel_luminance(i, channel, luminance)\n",
    "        plt.plot(channel,luminance,str(col),label='light:'+str(col))\n",
    "        plt.legend()\n",
    "        plt.xlabel('Value')\n",
    "        plt.ylabel('Luminance[cd/m^2]')\n",
    "        plt.title('Relation between Value of Channel and Luminance')\n",
    "        plt.show    #plot\n",
    "\n",
    "def ChannelValue(l:int, perc:float): \n",
    "    # input: l:light(R-1,G-2,B-3,A-5), perc:the percentage of the maximum luminance of the channel\n",
    "    # output: the channel value(1~251)\n",
    "    #print(largestLum[l-1])\n",
    "    print(perc*largestLum[l-1])\n",
    "    return int(eval('func'+str(l)+'('+str(perc*largestLum[l-1])+')'))   \n",
    "\n",
    "def get_drivers(w):\n",
    "    digit.append(ChannelValue(1, w[0]))\n",
    "    digit.append(ChannelValue(2, w[1]))\n",
    "    digit.append(ChannelValue(3, w[2]))\n",
    "    digit.append(ChannelValue(5, w[3]))"
   ]
  },
  {
   "cell_type": "code",
   "execution_count": 26,
   "id": "693d26e7",
   "metadata": {},
   "outputs": [],
   "source": [
    "#3 AND N COLOR MIXING\n",
    "def get_primaries():\n",
    "# lx.SPD(np.array(eval(spdData['Value'].iloc[25]))).plot()\n",
    "# lx.SPD(np.array(eval(spdData['Value'].iloc[51]))).plot()\n",
    "# lx.SPD(np.array(eval(spdData['Value'].iloc[77]))).plot()\n",
    "#lx.SPD(np.array(eval(spdData['Value'].iloc[103]))).plot()\n",
    "\n",
    "    r_primary = np.array(copy.copy(eval(spdData['Value'].iloc[25])))\n",
    "    g_primary = np.array(copy.copy(eval(spdData['Value'].iloc[51])))\n",
    "    b_primary = np.array(copy.copy(eval(spdData['Value'].iloc[77])))\n",
    "\n",
    "    #t_color = lx._CIE_ILLUMINANTS['LED_B1']\n",
    "\n",
    "def get_cp():\n",
    "    #xyzt = lx.spd_to_xyz(t_color, relative= False) # K = 1 replaces the default 683 lm/W value with 1!\n",
    "    xyzr = lx.spd_to_xyz(r_primary, relative= False ) # K = 1 replaces the default 683 lm/W value with 1!\n",
    "    Yxyr = lx.xyz_to_Yxy(xyzr)\n",
    "    xyzg = lx.spd_to_xyz(g_primary, relative= False) # K = 1 replaces the default 683 lm/W value with 1!\n",
    "    Yxyg = lx.xyz_to_Yxy(xyzg)\n",
    "    xyzb = lx.spd_to_xyz(b_primary, relative= False) # K = 1 replaces the default 683 lm/W value with 1!\n",
    "    Yxyb = lx.xyz_to_Yxy(xyzb)\n",
    "    xyza = lx.spd_to_xyz(a_primary, relative=False) # K = 1 replaces the default 683 lm/W value with 1!\n",
    "    Yxya = lx.xyz_to_Yxy(xyza)\n",
    "    \n",
    "    return np.array([xyzr[0], xyzg[0], xyzb[0], xyza[0]]).T\n",
    "\n",
    "def get_target_color_xyz():\n",
    "    xyzt = np.array([[51.8347, 42.0302, 78.0537]])\n",
    "    return xyzt\n",
    "    \n",
    "def get_target_color_yxy():\n",
    "    xyzt = np.array([[51.8347, 42.0302, 78.0537]])\n",
    "    Yxyt = lx.xyz_to_Yxy(xyzt) \n",
    "    return Yxyt\n",
    "\n",
    "#3-channel color mixing\n",
    "def three_color_mixing():\n",
    "    cp = cp[:3]\n",
    "    print(cp)\n",
    "    w = np.linalg.inv(Cp) @ xyzt.T\n",
    "    print(w[0]*Cp.T[0] + w[1]*Cp.T[1] + w[2]*Cp.T[2])\n"
   ]
  },
  {
   "cell_type": "code",
   "execution_count": 3,
   "id": "030699ae",
   "metadata": {},
   "outputs": [
    {
     "data": {
      "image/png": "[encoded data removed]",
      "text/plain": [
       "<Figure size 432x288 with 1 Axes>"
      ]
     },
     "metadata": {
      "needs_background": "light"
     },
     "output_type": "display_data"
    }
   ],
   "source": [
    "# Approximation\n",
    "def getApproximation(x, y, n):\n",
    "    apx = np.polyfit(x, y, n)\n",
    "    y_apx = np.poly1d(apx)(x)\n",
    "    return (x, y_apx)\n",
    "\n",
    "channel = 1\n",
    "x = range(1,256,10)\n",
    "y = spdData['Luminance'][spdData['Light']==channel]\n",
    "x, y_apx = getApproximation(x, y, 3)\n",
    "\n",
    "plt.plot(x, y, label='original')\n",
    "plt.plot(x, y_apx, label='approximation')\n",
    "plt.legend()\n",
    "plt.show()"
   ]
  },
  {
   "cell_type": "code",
   "execution_count": 5,
   "id": "e48f207a",
   "metadata": {},
   "outputs": [
    {
     "name": "stdout",
     "output_type": "stream",
     "text": [
      "[[7.0892e+01 3.3972e+01 -2.9182e+01]]\n",
      "[[5.1835e+01 4.2030e+01 7.8054e+01]]\n",
      "[[5.1835e+01 4.2030e+01 7.8054e+01]] [[4.2030e+01 3.0151e-01 2.4448e-01]]\n",
      "[[6.0571e-02]\n",
      " [4.0413e-02]\n",
      " [4.1445e-02]]\n",
      "[5.1835e+01 4.2030e+01 7.8054e+01]\n",
      "918.6169406885249\n"
     ]
    },
    {
     "data": {
      "image/png": "[encoded data removed]",
      "text/plain": [
       "<Figure size 432x288 with 1 Axes>"
      ]
     },
     "metadata": {
      "needs_background": "light"
     },
     "output_type": "display_data"
    }
   ],
   "source": [
    "#print(spdData['Value'].iloc[0])\n",
    "#p = np.array(copy.copy(eval(spdData['Value'].iloc[0])))\n",
    "#print(p.shape)\n",
    "#lx.SPD(p).plot()\n",
    "\n",
    "# for i in range(0, 25):\n",
    "#     lx.SPD(np.array(eval(spdData['Value'].iloc[i]))).plot()\n",
    "   \n",
    "lx.SPD(np.array(eval(spdData['Value'].iloc[25]))).plot()\n",
    "lx.SPD(np.array(eval(spdData['Value'].iloc[51]))).plot()\n",
    "lx.SPD(np.array(eval(spdData['Value'].iloc[77]))).plot()\n",
    "#lx.SPD(np.array(eval(spdData['Value'].iloc[103]))).plot()\n",
    "\n",
    "r_primary = np.array(copy.copy(eval(spdData['Value'].iloc[25])))\n",
    "g_primary = np.array(copy.copy(eval(spdData['Value'].iloc[51])))\n",
    "b_primary = np.array(copy.copy(eval(spdData['Value'].iloc[77])))\n",
    "\n",
    "t_color = lx._CIE_ILLUMINANTS['LED_B1']\n",
    "#print(e_illuminant)\n",
    "#lx.SPD(lx._CIE_E).plot() \n",
    "\n",
    "\n",
    "xyzt = lx.spd_to_xyz(t_color, relative= False) # K = 1 replaces the default 683 lm/W value with 1!\n",
    "xyzt = np.array([[51.8347, 42.0302, 78.0537]])\n",
    "\n",
    "print(lx.xyz_to_lab(xyzt))\n",
    "print(xyzt)\n",
    "Yxyt = lx.xyz_to_Yxy(xyzt)\n",
    "\n",
    "xyzr = lx.spd_to_xyz(r_primary, relative= False ) # K = 1 replaces the default 683 lm/W value with 1!\n",
    "Yxyr = lx.xyz_to_Yxy(xyzr)\n",
    "xyzg = lx.spd_to_xyz(g_primary, relative= False) # K = 1 replaces the default 683 lm/W value with 1!\n",
    "Yxyg = lx.xyz_to_Yxy(xyzg)\n",
    "xyzb = lx.spd_to_xyz(b_primary, relative= False) # K = 1 replaces the default 683 lm/W value with 1!\n",
    "Yxyb = lx.xyz_to_Yxy(xyzb)\n",
    "print(xyzt, Yxyt)\n",
    "# print(xyzr[0])\n",
    "# print(xyzr, xyzg, xyzb)\n",
    "#print(np.linalg.inv(Yxyr[0]))\n",
    "#3-channel color mixing\n",
    "\n",
    "Cp = np.array([xyzr[0], xyzg[0], xyzb[0]]).T\n",
    "#print(Cp)\n",
    "w = np.linalg.inv(Cp) @ xyzt.T\n",
    "print(w)\n",
    "# print(Cp.T[0])\n",
    "# print(xyzr)\n",
    "print(w[0]*Cp.T[0] + w[1]*Cp.T[1] + w[2]*Cp.T[2])\n",
    "\n",
    "print(Cp.sum(axis=1)[1])\n"
   ]
  },
  {
   "cell_type": "code",
   "execution_count": 6,
   "id": "e27e7e73",
   "metadata": {},
   "outputs": [
    {
     "name": "stdout",
     "output_type": "stream",
     "text": [
      "[[4.4019e-02]\n",
      " [3.5257e-02]\n",
      " [4.1607e-02]\n",
      " [3.0061e-02]]\n",
      "[5.1835e+01 4.2030e+01 7.8054e+01]\n"
     ]
    }
   ],
   "source": [
    "#N-color mixing\n",
    "\n",
    "a_primary = np.array(copy.copy(eval(spdData['Value'].iloc[103])))\n",
    "\n",
    "\n",
    "\n",
    "Cp = np.array([xyzr[0], xyzg[0], xyzb[0], xyza[0]]).T\n",
    "\n",
    "w = Cp.T @ (np.linalg.inv(Cp@Cp.T)) @ xyzt.T\n",
    "print(w)\n",
    "print(w[0]*Cp.T[0] + w[1]*Cp.T[1] + w[2]*Cp.T[2] + w[3]*Cp.T[3])"
   ]
  },
  {
   "cell_type": "code",
   "execution_count": 7,
   "id": "ac6b3af4",
   "metadata": {},
   "outputs": [
    {
     "name": "stdout",
     "output_type": "stream",
     "text": [
      "[1.0467e+01]\n",
      "[2.0149e+01]\n",
      "[4.5496e+00]\n",
      "[6.8649e+00]\n",
      "[26, 13, 20, 10]\n"
     ]
    },
    {
     "data": {
      "image/png": "[encoded data removed]",
      "text/plain": [
       "<Figure size 432x288 with 1 Axes>"
      ]
     },
     "metadata": {
      "needs_background": "light"
     },
     "output_type": "display_data"
    }
   ],
   "source": [
    "spdData = pd.read_csv('./data/spectrums.txt', sep=' |:', header=None, engine='python')\n",
    "spdData.columns = ['Light','Channel','Value']\n",
    "spdData['Luminance'] = spdData.apply(lambda x: float(lx.spd_to_power(eval(x['Value']), ptype='pu')), axis=1)\n",
    "#print(spdData['Luminance'][25], spdData['Luminance'][51], spdData['Luminance'][77])\n",
    "# spd_to_power(): spectral radiant power [W/nm] to luminance [cd/m^2]\n",
    "\n",
    "largestLum = []\n",
    "for i in [1,2,3,5]:\n",
    "    channel = []\n",
    "    luminance = []\n",
    "    col = np.where(i==1, 'r', np.where(i==2, 'g', np.where(i==3, 'b', 'y')))\n",
    "    for j in range(1,256,10):\n",
    "        channel.append(j)\n",
    "        luminance.append(spdData['Luminance'][spdData['Light']==i][spdData['Channel']==j])\n",
    "    \n",
    "    largestLum.append(float(luminance[-1]))    # record the largest luminance of every channel\n",
    "    plt.plot(channel,luminance,str(col),label='light:'+str(col))\n",
    "    plt.legend()\n",
    "    plt.xlabel('Value')\n",
    "    plt.ylabel('Luminance[cd/m^2]')\n",
    "    plt.title('Relation between Value of Channel and Luminance')\n",
    "    plt.show    #plot\n",
    "    \n",
    "    x = np.array(channel)\n",
    "    y = np.array(luminance)    \n",
    "    exec('func'+str(i)+'=interpolate.UnivariateSpline(y,x,s=0)') # interpolation: pass all the points\n",
    "\n",
    "largestLum.insert(3,None) #To easily process in function of ChannelValue\n",
    "\n",
    "\n",
    "def ChannelValue(l:int, perc:float): \n",
    "    # input: l:light(R-1,G-2,B-3,A-5), perc:the percentage of the maximum luminance of the channel\n",
    "    # output: the channel value(1~251)\n",
    "    #print(largestLum[l-1])\n",
    "    print(perc*largestLum[l-1])\n",
    "    return int(eval('func'+str(l)+'('+str(perc*largestLum[l-1])+')'))   \n",
    "\n",
    "#get luminance by normalize\n",
    "# w_normalized = w / w.sum()\n",
    "# print(w_normalized)\n",
    "\n",
    "digit = []\n",
    "digit.append(ChannelValue(1, w[0]))\n",
    "digit.append(ChannelValue(2, w[1]))\n",
    "digit.append(ChannelValue(3, w[2]))\n",
    "digit.append(ChannelValue(5, w[3]))\n",
    "print(digit)\n",
    "\n",
    "\n"
   ]
  },
  {
   "cell_type": "code",
   "execution_count": 40,
   "id": "60cb98a7",
   "metadata": {},
   "outputs": [
    {
     "name": "stdout",
     "output_type": "stream",
     "text": [
      "[[3.6000e+02 3.6100e+02 3.6200e+02 ... 8.2800e+02 8.2900e+02 8.3000e+02]\n",
      " [0.0000e+00 0.0000e+00 0.0000e+00 ... 4.0397e-06 1.3450e-05 0.0000e+00]\n",
      " [2.2230e-04 6.4534e-05 3.4546e-05 ... 0.0000e+00 0.0000e+00 6.0514e-05]\n",
      " [0.0000e+00 6.7309e-04 3.1529e-04 ... 9.9812e-06 8.8070e-05 1.3222e-04]\n",
      " [2.2653e-04 0.0000e+00 4.1692e-04 ... 2.9844e-05 0.0000e+00 1.8561e-05]]\n",
      "\n",
      "Results (optim,target):\n",
      "Yxy: ([42,0.30,0.24],[42,0.30,0.24])\n",
      "Rf: (75.30,90.00)\n",
      "Rg: (103.13, 110.00)\n",
      "cct(K), duv: (10341.9,-0.0402)\n",
      "\n",
      "Flux ratios of component spectra: [[2.3256e-02 2.8788e-02 4.1811e-02 6.7770e-02]]\n",
      "5.5298444402567535\n",
      "16.4520833551382\n",
      "4.571831153056916\n",
      "15.476441051548118\n",
      "[9, 8, 20, 40]\n"
     ]
    },
    {
     "data": {
      "image/png": "[encoded data removed]",
      "text/plain": [
       "<Figure size 432x288 with 1 Axes>"
      ]
     },
     "metadata": {
      "needs_background": "light"
     },
     "output_type": "display_data"
    }
   ],
   "source": [
    "def spd_to_cris(spd, solution_info=None):\n",
    "    #print(solution_info)\n",
    "    Rf,Rg = lx.cri.spd_to_cri(spd, cri_type='ies-tm30',out='Rf,Rg')\n",
    "    return np.vstack((Rf, Rg))  \n",
    "\n",
    "obj_fcn = [(spd_to_cris,'Rf','Rg')]\n",
    "obj_tar_vals = [(90,110)]\n",
    "\n",
    "# def spd_to_lers(spd, solution_info=None):\n",
    "#     #print(solution_info)\n",
    "#     ler = lx.spd_to_ler(spd, K=683)\n",
    "#     return np.vstack((ler))  \n",
    "\n",
    "# obj_fcn = [(spd_to_lers,'ler')]\n",
    "# obj_tar_vals = [(200)]\n",
    "\n",
    "# def spd_to_ccts(spd, solution_info=None):\n",
    "#     #print(solution_info)\n",
    "#     xyz = lx.spd_to_xyz(spd, relative=False)\n",
    "#     cct,duv = lx.xyz_to_cct(xyz, out = 'cct,duv')\n",
    "#     return np.vstack((cct, duv))  \n",
    "\n",
    "# obj_fcn = [(spd_to_ccts,'cct', 'duv')]\n",
    "# obj_tar_vals = [(5000, 0.04)]\n",
    "\n",
    "\n",
    "# Initialize SpectralOptimizer object:\n",
    "cieobs='1931_2'\n",
    "prims = np.array([r_primary[0],r_primary[1], g_primary[1], b_primary[1], a_primary[1]])\n",
    "print(prims)\n",
    "target = Yxyt\n",
    "so3 = spb.SpectralOptimizer(target = target, tar_type = 'Yxy', cspace_bwtf = {},\n",
    "                      wlr = [360,830,1], cieobs = cieobs, \n",
    "                      out = 'spds,primss,Ms,results',\n",
    "                      optimizer_type = '3mixer', triangle_strengths_bnds = None,\n",
    "                      prim_constructor = None, \n",
    "                      prims = prims,\n",
    "                      obj_fcn = spb.ObjFcns(f=obj_fcn, ft = obj_tar_vals),\n",
    "                      minimizer = spb.Minimizer(method='particleswarm'),\n",
    "                      verbosity = 0)\n",
    "\n",
    "# start optimization:\n",
    "S,M = so3.start(out = 'spds,Ms')\n",
    "\n",
    "# Check output agrees with target:\n",
    "xyz = lx.spd_to_xyz(S, relative = False, cieobs = cieobs)\n",
    "Yxy = lx.xyz_to_Yxy(xyz)\n",
    "cct,duv = lx.xyz_to_cct(xyz, cieobs = cieobs,out = 'cct,duv')\n",
    "Rf, Rg = spd_to_cris(S)\n",
    "#ler = spd_to_lers(S)\n",
    "#cct, duv = spd_to_ccts(S)\n",
    "print('\\nResults (optim,target):')\n",
    "print(\"Yxy: ([{:1.0f},{:1.2f},{:1.2f}],[{:1.0f},{:1.2f},{:1.2f}])\".format(Yxy[0,0],Yxy[0,1],Yxy[0,2],target[0,0],target[0,1],target[0,2]))\n",
    "print(\"Rf: ({:1.2f},{:1.2f})\".format(Rf[0], obj_tar_vals[0][0]))\n",
    "print(\"Rg: ({:1.2f}, {:1.2f})\".format(Rg[0], obj_tar_vals[0][1]))\n",
    "print(\"cct(K), duv: ({:1.1f},{:1.4f})\".format(cct[0,0], duv[0,0]))\n",
    "#print(ler)\n",
    "#print(cct, duv)\n",
    "\n",
    "print('\\nFlux ratios of component spectra:', M)\n",
    "\n",
    "#plot spd:\n",
    "plt.figure()\n",
    "lx.SPD(S).plot()\n",
    "\n",
    "digit = []\n",
    "digit.append(ChannelValue(1, M[0][0]))\n",
    "digit.append(ChannelValue(2, M[0][1]))\n",
    "digit.append(ChannelValue(3, M[0][2]))\n",
    "digit.append(ChannelValue(5, M[0][3]))\n",
    "print(digit)"
   ]
  },
  {
   "cell_type": "code",
   "execution_count": 16,
   "id": "198e0fd3",
   "metadata": {},
   "outputs": [
    {
     "name": "stdout",
     "output_type": "stream",
     "text": [
      "Requirement already satisfied: luxpy in c:\\users\\jovana\\desktop\\virtual\\ltechnology\\lib\\site-packages (1.9.6)\n",
      "Requirement already satisfied: matplotlib in c:\\users\\jovana\\desktop\\virtual\\ltechnology\\lib\\site-packages (from luxpy) (3.5.1)\n",
      "Requirement already satisfied: numpy in c:\\users\\jovana\\desktop\\virtual\\ltechnology\\lib\\site-packages (from luxpy) (1.22.2)\n",
      "Requirement already satisfied: scipy in c:\\users\\jovana\\desktop\\virtual\\ltechnology\\lib\\site-packages (from luxpy) (1.8.0)\n",
      "Requirement already satisfied: pandas in c:\\users\\jovana\\desktop\\virtual\\ltechnology\\lib\\site-packages (from luxpy) (1.4.1)\n",
      "Requirement already satisfied: imageio in c:\\users\\jovana\\desktop\\virtual\\ltechnology\\lib\\site-packages (from luxpy) (2.16.0)\n",
      "Requirement already satisfied: pillow>=8.3.2 in c:\\users\\jovana\\desktop\\virtual\\ltechnology\\lib\\site-packages (from imageio->luxpy) (9.0.1)\n",
      "Requirement already satisfied: cycler>=0.10 in c:\\users\\jovana\\desktop\\virtual\\ltechnology\\lib\\site-packages (from matplotlib->luxpy) (0.11.0)\n",
      "Requirement already satisfied: fonttools>=4.22.0 in c:\\users\\jovana\\desktop\\virtual\\ltechnology\\lib\\site-packages (from matplotlib->luxpy) (4.29.1)\n",
      "Requirement already satisfied: python-dateutil>=2.7 in c:\\users\\jovana\\desktop\\virtual\\ltechnology\\lib\\site-packages (from matplotlib->luxpy) (2.8.2)\n",
      "Requirement already satisfied: pyparsing>=2.2.1 in c:\\users\\jovana\\desktop\\virtual\\ltechnology\\lib\\site-packages (from matplotlib->luxpy) (3.0.7)\n",
      "Requirement already satisfied: kiwisolver>=1.0.1 in c:\\users\\jovana\\desktop\\virtual\\ltechnology\\lib\\site-packages (from matplotlib->luxpy) (1.3.2)\n",
      "Requirement already satisfied: packaging>=20.0 in c:\\users\\jovana\\desktop\\virtual\\ltechnology\\lib\\site-packages (from matplotlib->luxpy) (21.3)\n",
      "Requirement already satisfied: pytz>=2020.1 in c:\\users\\jovana\\desktop\\virtual\\ltechnology\\lib\\site-packages (from pandas->luxpy) (2021.3)\n",
      "Requirement already satisfied: six>=1.5 in c:\\users\\jovana\\desktop\\virtual\\ltechnology\\lib\\site-packages (from python-dateutil>=2.7->matplotlib->luxpy) (1.16.0)\n",
      "Note: you may need to restart the kernel to use updated packages.\n"
     ]
    },
    {
     "name": "stderr",
     "output_type": "stream",
     "text": [
      "WARNING: You are using pip version 21.3.1; however, version 22.0.4 is available.\n",
      "You should consider upgrading via the 'C:\\Users\\Jovana\\Desktop\\Virtual\\LTechnology\\Scripts\\python.exe -m pip install --upgrade pip' command.\n"
     ]
    }
   ],
   "source": [
    "pip install luxpy"
   ]
  },
  {
   "cell_type": "code",
   "execution_count": 25,
   "id": "69af6fef",
   "metadata": {},
   "outputs": [
    {
     "ename": "NameError",
     "evalue": "name 'M' is not defined",
     "output_type": "error",
     "traceback": [
      "\u001b[1;31m---------------------------------------------------------------------------\u001b[0m",
      "\u001b[1;31mNameError\u001b[0m                                 Traceback (most recent call last)",
      "Input \u001b[1;32mIn [25]\u001b[0m, in \u001b[0;36m<module>\u001b[1;34m\u001b[0m\n\u001b[0;32m      5\u001b[0m \u001b[38;5;66;03m#plot_luminance()\u001b[39;00m\n\u001b[0;32m      6\u001b[0m get_luminance()\n\u001b[1;32m----> 7\u001b[0m \u001b[43mget_drivers\u001b[49m\u001b[43m(\u001b[49m\u001b[43m)\u001b[49m\n\u001b[0;32m      8\u001b[0m \u001b[38;5;28mprint\u001b[39m(digit)\n",
      "Input \u001b[1;32mIn [24]\u001b[0m, in \u001b[0;36mget_drivers\u001b[1;34m()\u001b[0m\n\u001b[0;32m     49\u001b[0m \u001b[38;5;28;01mdef\u001b[39;00m \u001b[38;5;21mget_drivers\u001b[39m():\n\u001b[1;32m---> 50\u001b[0m     digit\u001b[38;5;241m.\u001b[39mappend(ChannelValue(\u001b[38;5;241m1\u001b[39m, \u001b[43mM\u001b[49m[\u001b[38;5;241m0\u001b[39m][\u001b[38;5;241m0\u001b[39m]))\n\u001b[0;32m     51\u001b[0m     digit\u001b[38;5;241m.\u001b[39mappend(ChannelValue(\u001b[38;5;241m2\u001b[39m, M[\u001b[38;5;241m0\u001b[39m][\u001b[38;5;241m1\u001b[39m]))\n\u001b[0;32m     52\u001b[0m     digit\u001b[38;5;241m.\u001b[39mappend(ChannelValue(\u001b[38;5;241m3\u001b[39m, M[\u001b[38;5;241m0\u001b[39m][\u001b[38;5;241m2\u001b[39m]))\n",
      "\u001b[1;31mNameError\u001b[0m: name 'M' is not defined"
     ]
    }
   ],
   "source": [
    "spdData = []\n",
    "largestLum = []\n",
    "digit = []\n",
    "cp=[]\n",
    "ct = []\n",
    "spdData = load_data('./data/spectrums.txt', spdData)\n",
    "#plot_luminance()\n",
    "get_luminance()\n",
    "\n",
    "cp = get_cp()\n",
    "\n",
    "\n",
    "get_drivers()\n",
    "\n",
    "print(digit)\n"
   ]
  },
  {
   "cell_type": "code",
   "execution_count": null,
   "id": "8d9571e1",
   "metadata": {},
   "outputs": [],
   "source": []
  }
 ],
 "metadata": {
  "kernelspec": {
   "display_name": "Python 3 (ipykernel)",
   "language": "python",
   "name": "python3"
  },
  "language_info": {
   "codemirror_mode": {
    "name": "ipython",
    "version": 3
   },
   "file_extension": ".py",
   "mimetype": "text/x-python",
   "name": "python",
   "nbconvert_exporter": "python",
   "pygments_lexer": "ipython3",
   "version": "3.8.0"
  }
 },
 "nbformat": 4,
 "nbformat_minor": 5
}
